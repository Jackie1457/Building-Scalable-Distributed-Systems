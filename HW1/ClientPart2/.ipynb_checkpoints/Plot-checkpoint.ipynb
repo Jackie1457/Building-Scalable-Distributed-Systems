{
 "cells": [
  {
   "cell_type": "code",
   "execution_count": 58,
   "id": "30e4887a",
   "metadata": {},
   "outputs": [
    {
     "name": "stdout",
     "output_type": "stream",
     "text": [
      "       startTime requestType  latency  responseCode\n",
      "0  1675739572013        POST     1432           201\n",
      "1  1675739572014        POST     1431           201\n",
      "2  1675739572014        POST     1431           201\n",
      "3  1675739572014        POST     1431           201\n",
      "4  1675739572015        POST     1430           201\n"
     ]
    }
   ],
   "source": [
    "import pandas as pd\n",
    "import matplotlib.pyplot as plt\n",
    "import numpy as np\n",
    "df = pd.read_csv('/Users/siyuanchen/Documents/6650/ClientPart2/records.csv')\n",
    "print(df.head())"
   ]
  },
  {
   "cell_type": "code",
   "execution_count": 59,
   "id": "b2be8a7c",
   "metadata": {},
   "outputs": [
    {
     "name": "stdout",
     "output_type": "stream",
     "text": [
      "0         1675739572013\n",
      "1         1675739572014\n",
      "2         1675739572014\n",
      "3         1675739572014\n",
      "4         1675739572015\n",
      "              ...      \n",
      "486504    1675739799724\n",
      "486505    1675739799749\n",
      "486506    1675739799777\n",
      "486507    1675739799838\n",
      "486508    1675739799872\n",
      "Name: startTime, Length: 486509, dtype: int64\n"
     ]
    }
   ],
   "source": [
    "print(df[df.columns[0]])"
   ]
  },
  {
   "cell_type": "code",
   "execution_count": 61,
   "id": "5478d5d7",
   "metadata": {},
   "outputs": [
    {
     "name": "stdout",
     "output_type": "stream",
     "text": [
      "0         1675739572013\n",
      "37        1675739572013\n",
      "275       1675739572013\n",
      "39        1675739572013\n",
      "41        1675739572013\n",
      "              ...      \n",
      "486504    1675739799724\n",
      "486505    1675739799749\n",
      "486506    1675739799777\n",
      "486507    1675739799838\n",
      "486508    1675739799872\n",
      "Name: startTime, Length: 486509, dtype: int64\n"
     ]
    }
   ],
   "source": [
    "sort = df.sort_values(df.columns[0], ascending = True)\n",
    "first_column_values = sort.iloc[:, 0]\n",
    "print(first_column_values)"
   ]
  },
  {
   "cell_type": "code",
   "execution_count": 64,
   "id": "c7699064",
   "metadata": {},
   "outputs": [
    {
     "name": "stdout",
     "output_type": "stream",
     "text": [
      "[196, 1140, 2707, 4554, 6576, 8688, 10866, 13172, 15226, 17596, 19676, 21755, 24036, 26244, 28436, 30584, 32808, 34704, 36898, 38985, 40944, 42972, 45176, 47178, 49438, 51648, 53769, 55921, 57837, 59714, 61824, 63945, 65598, 67668, 69845, 71887, 73993, 76205, 78484, 80767, 82939, 85170, 87414, 89747, 91790, 94038, 96396, 98611, 100956, 103154, 105283, 107568, 109794, 111992, 114287, 116379, 118513, 120840, 123092, 125349, 127587, 129760, 131986, 134244, 136419, 138679, 140944, 143134, 145299, 147438, 149749, 151802, 154208, 156159, 158383, 160521, 162425, 164135, 165355, 167478, 169559, 171740, 173954, 175919, 178024, 180216, 182394, 184586, 186851, 189033, 191336, 193518, 195598, 198040, 200303, 202663, 204948, 207172, 209268, 211527, 213732, 215982, 218342, 220637, 222866, 225125, 227393, 229576, 231906, 234185, 236226, 238565, 240780, 243153, 245461, 247640, 249855, 251927, 254089, 256114, 258159, 260193, 262267, 264261, 266260, 268288, 270381, 272643, 274784, 276966, 279080, 281357, 283469, 285863, 288031, 289838, 292116, 293983, 295998, 298434, 300327, 302370, 304557, 306765, 309099, 311281, 313452, 315596, 317743, 319731, 321649, 323643, 325613, 327413, 329629, 332239, 334705, 337258, 339786, 342676, 345423, 348039, 350312, 352492, 354620, 357169, 359666, 362051, 364602, 367092, 369638, 372267, 374923, 377795, 380442, 383095, 385529, 388011, 390528, 393008, 395197, 397433, 399985, 402356, 404358, 406602, 408865, 411087, 413377, 415468, 417705, 419900, 422329, 424552, 426663, 428801, 430919, 432809, 434700, 436619, 438492, 440538, 442745, 444904, 447124, 449286, 451469, 453681, 455772, 458175, 460323, 462347, 464346, 466633, 468806, 470855, 473000, 475470, 477681, 479929, 481943, 483903, 485154, 485809, 486138, 486267]\n"
     ]
    }
   ],
   "source": [
    "start = 1675739572013\n",
    "num = 0\n",
    "res = []\n",
    "for time in first_column_values:\n",
    "    if time - start <= 1000:\n",
    "        num += 1\n",
    "    else:\n",
    "        res.append(num)\n",
    "        start = time\n",
    "print(res)\n",
    "     "
   ]
  },
  {
   "cell_type": "code",
   "execution_count": 66,
   "id": "b894df24",
   "metadata": {},
   "outputs": [
    {
     "name": "stdout",
     "output_type": "stream",
     "text": [
      "[0, 196, 944, 1567, 1847, 2022, 2112, 2178, 2306, 2054, 2370, 2080, 2079, 2281, 2208, 2192, 2148, 2224, 1896, 2194, 2087, 1959, 2028, 2204, 2002, 2260, 2210, 2121, 2152, 1916, 1877, 2110, 2121, 1653, 2070, 2177, 2042, 2106, 2212, 2279, 2283, 2172, 2231, 2244, 2333, 2043, 2248, 2358, 2215, 2345, 2198, 2129, 2285, 2226, 2198, 2295, 2092, 2134, 2327, 2252, 2257, 2238, 2173, 2226, 2258, 2175, 2260, 2265, 2190, 2165, 2139, 2311, 2053, 2406, 1951, 2224, 2138, 1904, 1710, 1220, 2123, 2081, 2181, 2214, 1965, 2105, 2192, 2178, 2192, 2265, 2182, 2303, 2182, 2080, 2442, 2263, 2360, 2285, 2224, 2096, 2259, 2205, 2250, 2360, 2295, 2229, 2259, 2268, 2183, 2330, 2279, 2041, 2339, 2215, 2373, 2308, 2179, 2215, 2072, 2162, 2025, 2045, 2034, 2074, 1994, 1999, 2028, 2093, 2262, 2141, 2182, 2114, 2277, 2112, 2394, 2168, 1807, 2278, 1867, 2015, 2436, 1893, 2043, 2187, 2208, 2334, 2182, 2171, 2144, 2147, 1988, 1918, 1994, 1970, 1800, 2216, 2610, 2466, 2553, 2528, 2890, 2747, 2616, 2273, 2180, 2128, 2549, 2497, 2385, 2551, 2490, 2546, 2629, 2656, 2872, 2647, 2653, 2434, 2482, 2517, 2480, 2189, 2236, 2552, 2371, 2002, 2244, 2263, 2222, 2290, 2091, 2237, 2195, 2429, 2223, 2111, 2138, 2118, 1890, 1891, 1919, 1873, 2046, 2207, 2159, 2220, 2162, 2183, 2212, 2091, 2403, 2148, 2024, 1999, 2287, 2173, 2049, 2145, 2470, 2211, 2248, 2014, 1960, 1251, 655, 329, 129]\n",
      "227\n"
     ]
    }
   ],
   "source": [
    "ans = [0, 196,]\n",
    "for i in range(len(res) - 1):\n",
    "    ans.append(res[i+1] - res[i])\n",
    "print(ans)\n",
    "print(len(ans))"
   ]
  },
  {
   "cell_type": "code",
   "execution_count": 70,
   "id": "fc1350c6",
   "metadata": {},
   "outputs": [
    {
     "name": "stdout",
     "output_type": "stream",
     "text": [
      "[0, 1, 2, 3, 4, 5, 6, 7, 8, 9, 10, 11, 12, 13, 14, 15, 16, 17, 18, 19, 20, 21, 22, 23, 24, 25, 26, 27, 28, 29, 30, 31, 32, 33, 34, 35, 36, 37, 38, 39, 40, 41, 42, 43, 44, 45, 46, 47, 48, 49, 50, 51, 52, 53, 54, 55, 56, 57, 58, 59, 60, 61, 62, 63, 64, 65, 66, 67, 68, 69, 70, 71, 72, 73, 74, 75, 76, 77, 78, 79, 80, 81, 82, 83, 84, 85, 86, 87, 88, 89, 90, 91, 92, 93, 94, 95, 96, 97, 98, 99, 100, 101, 102, 103, 104, 105, 106, 107, 108, 109, 110, 111, 112, 113, 114, 115, 116, 117, 118, 119, 120, 121, 122, 123, 124, 125, 126, 127, 128, 129, 130, 131, 132, 133, 134, 135, 136, 137, 138, 139, 140, 141, 142, 143, 144, 145, 146, 147, 148, 149, 150, 151, 152, 153, 154, 155, 156, 157, 158, 159, 160, 161, 162, 163, 164, 165, 166, 167, 168, 169, 170, 171, 172, 173, 174, 175, 176, 177, 178, 179, 180, 181, 182, 183, 184, 185, 186, 187, 188, 189, 190, 191, 192, 193, 194, 195, 196, 197, 198, 199, 200, 201, 202, 203, 204, 205, 206, 207, 208, 209, 210, 211, 212, 213, 214, 215, 216, 217, 218, 219, 220, 221, 222, 223, 224, 225, 226]\n",
      "227\n"
     ]
    }
   ],
   "source": [
    "x_axis = [i for i in range(0, 227)]\n",
    "print(x_axis)\n",
    "print(len(x_axis))"
   ]
  },
  {
   "cell_type": "code",
   "execution_count": 71,
   "id": "872e6d23",
   "metadata": {},
   "outputs": [
    {
     "data": {
      "image/png": "[encoded data removed]",
      "text/plain": [
       "<Figure size 432x288 with 1 Axes>"
      ]
     },
     "metadata": {
      "needs_background": "light"
     },
     "output_type": "display_data"
    }
   ],
   "source": [
    "plt.plot(x_axis, ans, label = \"Plot\")\n",
    "plt.show()"
   ]
  },
  {
   "cell_type": "code",
   "execution_count": 72,
   "id": "fe5f5fee",
   "metadata": {},
   "outputs": [
    {
     "name": "stdout",
     "output_type": "stream",
     "text": [
      "0\n",
      "196\n",
      "944\n",
      "1567\n",
      "1847\n",
      "2022\n",
      "2112\n",
      "2178\n",
      "2306\n",
      "2054\n",
      "2370\n",
      "2080\n",
      "2079\n",
      "2281\n",
      "2208\n",
      "2192\n",
      "2148\n",
      "2224\n",
      "1896\n",
      "2194\n",
      "2087\n",
      "1959\n",
      "2028\n",
      "2204\n",
      "2002\n",
      "2260\n",
      "2210\n",
      "2121\n",
      "2152\n",
      "1916\n",
      "1877\n",
      "2110\n",
      "2121\n",
      "1653\n",
      "2070\n",
      "2177\n",
      "2042\n",
      "2106\n",
      "2212\n",
      "2279\n",
      "2283\n",
      "2172\n",
      "2231\n",
      "2244\n",
      "2333\n",
      "2043\n",
      "2248\n",
      "2358\n",
      "2215\n",
      "2345\n",
      "2198\n",
      "2129\n",
      "2285\n",
      "2226\n",
      "2198\n",
      "2295\n",
      "2092\n",
      "2134\n",
      "2327\n",
      "2252\n",
      "2257\n",
      "2238\n",
      "2173\n",
      "2226\n",
      "2258\n",
      "2175\n",
      "2260\n",
      "2265\n",
      "2190\n",
      "2165\n",
      "2139\n",
      "2311\n",
      "2053\n",
      "2406\n",
      "1951\n",
      "2224\n",
      "2138\n",
      "1904\n",
      "1710\n",
      "1220\n",
      "2123\n",
      "2081\n",
      "2181\n",
      "2214\n",
      "1965\n",
      "2105\n",
      "2192\n",
      "2178\n",
      "2192\n",
      "2265\n",
      "2182\n",
      "2303\n",
      "2182\n",
      "2080\n",
      "2442\n",
      "2263\n",
      "2360\n",
      "2285\n",
      "2224\n",
      "2096\n",
      "2259\n",
      "2205\n",
      "2250\n",
      "2360\n",
      "2295\n",
      "2229\n",
      "2259\n",
      "2268\n",
      "2183\n",
      "2330\n",
      "2279\n",
      "2041\n",
      "2339\n",
      "2215\n",
      "2373\n",
      "2308\n",
      "2179\n",
      "2215\n",
      "2072\n",
      "2162\n",
      "2025\n",
      "2045\n",
      "2034\n",
      "2074\n",
      "1994\n",
      "1999\n",
      "2028\n",
      "2093\n",
      "2262\n",
      "2141\n",
      "2182\n",
      "2114\n",
      "2277\n",
      "2112\n",
      "2394\n",
      "2168\n",
      "1807\n",
      "2278\n",
      "1867\n",
      "2015\n",
      "2436\n",
      "1893\n",
      "2043\n",
      "2187\n",
      "2208\n",
      "2334\n",
      "2182\n",
      "2171\n",
      "2144\n",
      "2147\n",
      "1988\n",
      "1918\n",
      "1994\n",
      "1970\n",
      "1800\n",
      "2216\n",
      "2610\n",
      "2466\n",
      "2553\n",
      "2528\n",
      "2890\n",
      "2747\n",
      "2616\n",
      "2273\n",
      "2180\n",
      "2128\n",
      "2549\n",
      "2497\n",
      "2385\n",
      "2551\n",
      "2490\n",
      "2546\n",
      "2629\n",
      "2656\n",
      "2872\n",
      "2647\n",
      "2653\n",
      "2434\n",
      "2482\n",
      "2517\n",
      "2480\n",
      "2189\n",
      "2236\n",
      "2552\n",
      "2371\n",
      "2002\n",
      "2244\n",
      "2263\n",
      "2222\n",
      "2290\n",
      "2091\n",
      "2237\n",
      "2195\n",
      "2429\n",
      "2223\n",
      "2111\n",
      "2138\n",
      "2118\n",
      "1890\n",
      "1891\n",
      "1919\n",
      "1873\n",
      "2046\n",
      "2207\n",
      "2159\n",
      "2220\n",
      "2162\n",
      "2183\n",
      "2212\n",
      "2091\n",
      "2403\n",
      "2148\n",
      "2024\n",
      "1999\n",
      "2287\n",
      "2173\n",
      "2049\n",
      "2145\n",
      "2470\n",
      "2211\n",
      "2248\n",
      "2014\n",
      "1960\n",
      "1251\n",
      "655\n",
      "329\n",
      "129\n"
     ]
    }
   ],
   "source": [
    "for num in ans:\n",
    "    print(num)"
   ]
  },
  {
   "cell_type": "code",
   "execution_count": null,
   "id": "e01cbe81",
   "metadata": {},
   "outputs": [],
   "source": []
  }
 ],
 "metadata": {
  "kernelspec": {
   "display_name": "Python 3",
   "language": "python",
   "name": "python3"
  },
  "language_info": {
   "codemirror_mode": {
    "name": "ipython",
    "version": 3
   },
   "file_extension": ".py",
   "mimetype": "text/x-python",
   "name": "python",
   "nbconvert_exporter": "python",
   "pygments_lexer": "ipython3",
   "version": "3.8.8"
  }
 },
 "nbformat": 4,
 "nbformat_minor": 5
}
